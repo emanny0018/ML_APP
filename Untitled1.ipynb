{
 "cells": [
  {
   "cell_type": "code",
   "execution_count": 13,
   "id": "5c8efc4b-85d7-4fbd-a5ce-1f096e1a1bea",
   "metadata": {},
   "outputs": [
    {
     "name": "stdout",
     "output_type": "stream",
     "text": [
      "THIS IS A SIMPLE GAME YOU PLAY WITH JUST YOUR NAME\n",
      "NOW THE GAME WILL START\n"
     ]
    },
    {
     "name": "stdin",
     "output_type": "stream",
     "text": [
      "what is your name?: amado\n"
     ]
    },
    {
     "name": "stdout",
     "output_type": "stream",
     "text": [
      "GAME OVER FOR YOU MAMA OJO\n"
     ]
    }
   ],
   "source": [
    "print(\"THIS IS A SIMPLE GAME YOU PLAY WITH JUST YOUR NAME\")\n",
    "time.sleep(2)\n",
    "print(\"NOW THE GAME WILL START\")\n",
    "time.sleep(1)\n",
    "name = input(\"what is your name?:\")\n",
    "if len(name) == 6:\n",
    "  print(\"Thank you for playing CHIOMA\")\n",
    "else:\n",
    "  print(\"GAME OVER FOR YOU MAMA OJO\")"
   ]
  },
  {
   "cell_type": "code",
   "execution_count": null,
   "id": "2f039ac5-8c99-442b-a05c-75b1a2f94c2a",
   "metadata": {},
   "outputs": [],
   "source": []
  },
  {
   "cell_type": "code",
   "execution_count": null,
   "id": "d2ba0cc3-a23b-4388-bdf2-b2d324dd9ca0",
   "metadata": {},
   "outputs": [],
   "source": []
  },
  {
   "cell_type": "code",
   "execution_count": null,
   "id": "7ed2641f-aefa-42a7-8887-1a217df352df",
   "metadata": {},
   "outputs": [],
   "source": []
  }
 ],
 "metadata": {
  "kernelspec": {
   "display_name": "Python 3 (ipykernel)",
   "language": "python",
   "name": "python3"
  },
  "language_info": {
   "codemirror_mode": {
    "name": "ipython",
    "version": 3
   },
   "file_extension": ".py",
   "mimetype": "text/x-python",
   "name": "python",
   "nbconvert_exporter": "python",
   "pygments_lexer": "ipython3",
   "version": "3.12.4"
  }
 },
 "nbformat": 4,
 "nbformat_minor": 5
}
